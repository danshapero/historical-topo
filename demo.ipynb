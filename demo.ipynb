{
 "cells": [
  {
   "cell_type": "code",
   "execution_count": null,
   "id": "a17b6d3b-cb46-456a-874e-5ab201f97579",
   "metadata": {},
   "outputs": [],
   "source": [
    "import pathlib\n",
    "import subprocess\n",
    "import numpy as np\n",
    "import matplotlib.pyplot as plt\n",
    "import rasterio\n",
    "from fetch import file_index"
   ]
  },
  {
   "cell_type": "markdown",
   "id": "989e3625-3c95-4722-8990-4f2ec54a1ca6",
   "metadata": {},
   "source": [
    "The `fetch` script will download an index of all the historical topo maps that USGS has and open it in a pandas dataframe.\n",
    "The map index contains information about each map including the grid size, what states each map covers, and URLs where that map can be downloaded."
   ]
  },
  {
   "cell_type": "code",
   "execution_count": null,
   "id": "0c35fc89-0796-4f66-a4f5-32091c564c4d",
   "metadata": {},
   "outputs": [],
   "source": [
    "file_index.keys()"
   ]
  },
  {
   "cell_type": "markdown",
   "id": "cb62a9ab-53a9-417b-b38d-65f7f87f9a09",
   "metadata": {},
   "source": [
    "There are over 100k maps so we'll want to pick an area."
   ]
  },
  {
   "cell_type": "code",
   "execution_count": null,
   "id": "a6517c32-3536-432f-b9bd-605ea361f479",
   "metadata": {},
   "outputs": [],
   "source": [
    "len(file_index)"
   ]
  },
  {
   "cell_type": "markdown",
   "id": "5ef96788-49ce-4b4b-8b1e-6af995ce8b95",
   "metadata": {},
   "source": [
    "We'll focus on the area around Juneau, Alaska.\n",
    "The keys we're interested in are the map name and the grid size.\n",
    "We only want the highest-resolution maps."
   ]
  },
  {
   "cell_type": "code",
   "execution_count": null,
   "id": "90f10676-f35f-435c-9ce8-c6c669125864",
   "metadata": {},
   "outputs": [],
   "source": [
    "contains_juneau = file_index[\"map_name\"].str.contains(\"Juneau\")\n",
    "high_resolution = file_index[\"grid_size\"].str.contains(\"7.5 X 7.5 Minute\")\n",
    "juneau_maps = file_index[contains_juneau & high_resolution]"
   ]
  },
  {
   "cell_type": "markdown",
   "id": "049c6228-69c2-4377-afdd-498e0da2d799",
   "metadata": {},
   "source": [
    "There are only 17 maps, so this should be manageable."
   ]
  },
  {
   "cell_type": "code",
   "execution_count": null,
   "id": "45be0866-051f-4c93-961a-92a9902173d7",
   "metadata": {},
   "outputs": [],
   "source": [
    "juneau_maps[[\"map_name\", \"aerial_photo_year\", \"geotiff_url\"]]"
   ]
  },
  {
   "cell_type": "code",
   "execution_count": null,
   "id": "4e766a6d-8fef-4493-8636-8f9524d52faf",
   "metadata": {},
   "outputs": [],
   "source": [
    "for url in juneau_maps[\"geotiff_url\"]:\n",
    "    command = f\"curl -C - -O {url}\"\n",
    "    subprocess.run(command.split())"
   ]
  },
  {
   "cell_type": "code",
   "execution_count": null,
   "id": "bd391f66-013e-464e-a036-1141d5a721a0",
   "metadata": {},
   "outputs": [],
   "source": [
    "filenames = list(pathlib.Path(\"./\").glob(\"AK_Juneau*.tif\"))"
   ]
  },
  {
   "cell_type": "markdown",
   "id": "bdcae548-2320-4371-a6db-6b6601497a2b",
   "metadata": {},
   "source": [
    "Let's look at the first map.\n",
    "If I know geospatial data, they've used some unholy coordinate system."
   ]
  },
  {
   "cell_type": "code",
   "execution_count": null,
   "id": "7c5f789b-d9f6-4bac-9f1e-d7d97ddd36f5",
   "metadata": {},
   "outputs": [],
   "source": [
    "with rasterio.open(filenames[0], \"r\") as source:\n",
    "    crs = source.crs\n",
    "    bounds = source.bounds\n",
    "    image = source.read()"
   ]
  },
  {
   "cell_type": "markdown",
   "id": "c50d3d27-c8e6-4b22-9913-0f5736155b3c",
   "metadata": {},
   "source": [
    "*sigh*"
   ]
  },
  {
   "cell_type": "code",
   "execution_count": null,
   "id": "7b8a46cb-e7b0-424b-bb2c-645040aef001",
   "metadata": {},
   "outputs": [],
   "source": [
    "crs"
   ]
  },
  {
   "cell_type": "code",
   "execution_count": null,
   "id": "67cd3814-60d4-4cd9-bbc0-b2e6756da02e",
   "metadata": {},
   "outputs": [],
   "source": [
    "bounds"
   ]
  },
  {
   "cell_type": "code",
   "execution_count": null,
   "id": "3f676c34-ae92-4a46-9cbc-698c2630f003",
   "metadata": {},
   "outputs": [],
   "source": [
    "fig, ax = plt.subplots()\n",
    "extent = (bounds.left, bounds.right, bounds.bottom, bounds.top)\n",
    "ax.imshow(np.dstack((image[0, :, :], image[1, :, :], image[2, :, :])), extent=extent);"
   ]
  }
 ],
 "metadata": {
  "kernelspec": {
   "display_name": "firedrake",
   "language": "python",
   "name": "firedrake"
  },
  "language_info": {
   "codemirror_mode": {
    "name": "ipython",
    "version": 3
   },
   "file_extension": ".py",
   "mimetype": "text/x-python",
   "name": "python",
   "nbconvert_exporter": "python",
   "pygments_lexer": "ipython3",
   "version": "3.10.11"
  }
 },
 "nbformat": 4,
 "nbformat_minor": 5
}
